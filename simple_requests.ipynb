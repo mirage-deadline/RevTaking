{
 "cells": [
  {
   "cell_type": "code",
   "execution_count": 1,
   "id": "804947bb-d56b-4167-b523-cd751d9c02bc",
   "metadata": {},
   "outputs": [],
   "source": [
    "import requests\n",
    "from bs4 import BeautifulSoup\n",
    "import lxml\n",
    "import os\n",
    "import pandas as pd\n",
    "from datetime import datetime, timedelta\n",
    "import time\n",
    "import json\n",
    "from tqdm import tqdm\n",
    "import re"
   ]
  },
  {
   "cell_type": "code",
   "execution_count": 2,
   "id": "5d4aed38-4304-46c4-8a24-ea3d3fd96a75",
   "metadata": {},
   "outputs": [],
   "source": [
    "headers = {\n",
    "       'user-agent': 'Mozilla/5.0 (Windows NT 10.0; Win64; x64) AppleWebt/537.36 (KHTML, like Gecko) Chrome/94.0.4606.81 Safari/537.36' \n",
    "    }\n",
    "URL_PART_1 = 'https://api.reviews.2gis.com/2.0/branches/'\n",
    "URL_PART_2 = '/reviews?fields=meta.providers%2Cmeta.branch_rating%2Cmeta.branch_reviews_count%2Cmeta.total_count%2Creviews.hiding_reason%2Creviews.is_verified&is_advertiser=false&key=37c04fe6-a560-4549-b459-02309cf643ad&limit=50&locale=ru_RU&offset_date='\n",
    "URL_PART_3 = 'T12%3A27%3A50.824879%2B07%3A00&rated=true&sort_by=date_edited'"
   ]
  },
  {
   "cell_type": "code",
   "execution_count": 101,
   "id": "5cf79f47-a203-4fa0-ac12-2514378f4ce1",
   "metadata": {},
   "outputs": [
    {
     "name": "stderr",
     "output_type": "stream",
     "text": [
      "100%|██████████| 121/121 [00:08<00:00, 13.48it/s]\n"
     ]
    }
   ],
   "source": [
    "for city_file in os.listdir('2gis/review_hrefs'):\n",
    "    city = city_file.split('.')[0]\n",
    "    df = pd.DataFrame()\n",
    "    with open(os.path.join('2gis/review_hrefs', city_file)) as file:\n",
    "        urls_id = [url.strip() for url in file.readlines()]\n",
    "    with requests.Session() as session:\n",
    "#         ПО одному городу\n",
    "        for url_id in tqdm(urls_id):\n",
    "            date = str(datetime.now().date() + timedelta(days=1))\n",
    "            offset = ''\n",
    "            while True:\n",
    "                url = URL_PART_1 + url_id + URL_PART_2 + date + URL_PART_3\n",
    "                # print(url)\n",
    "                response = session.get(url=url, headers=headers)\n",
    "                js = response.json()['reviews']\n",
    "                \n",
    "                try:\n",
    "                    # print(js)\n",
    "                    date = js[-1]['date_created'][:10]\n",
    "                    offset_now = js[0]['id']\n",
    "                    if offset_now == offset:\n",
    "                        break\n",
    "                    offset = offset_now\n",
    "                except IndexError:\n",
    "                    break\n",
    "                new = pd.DataFrame().from_dict(js)\n",
    "                df = pd.concat([df,new])\n",
    "                if len(js) == 1:\n",
    "                    break\n",
    "                \n",
    "        df.to_csv(f'2gis\\\\company_info\\\\{city}.csv', index=False)\n",
    "        "
   ]
  },
  {
   "cell_type": "code",
   "execution_count": 64,
   "id": "30362916-65c6-419e-8769-6b8e361542c8",
   "metadata": {},
   "outputs": [],
   "source": [
    "df = pd.DataFrame()"
   ]
  },
  {
   "cell_type": "code",
   "execution_count": 102,
   "id": "cb928fae-877b-4e27-9917-60e3d79e48dc",
   "metadata": {},
   "outputs": [],
   "source": [
    "df = pd.DataFrame()\n",
    "for file in os.listdir(f'2gis/company_info'):\n",
    "    new = pd.read_csv(f'2gis/company_info/{file}')\n",
    "    new['City'] = file.split('.')[0]\n",
    "    # print(new)\n",
    "    df = pd.concat([df, new])"
   ]
  },
  {
   "cell_type": "code",
   "execution_count": 103,
   "id": "8fbaf4e8-6ef6-4798-915e-ea803a63be3f",
   "metadata": {},
   "outputs": [],
   "source": [
    "df = df.loc[:, ['City', 'text', 'rating', 'date_created', 'user', 'object', 'official_answer']]"
   ]
  },
  {
   "cell_type": "code",
   "execution_count": 104,
   "id": "18ad6532-28c1-4834-8362-229b0c3261ce",
   "metadata": {},
   "outputs": [],
   "source": [
    "df = df.reset_index(drop=True)"
   ]
  },
  {
   "cell_type": "code",
   "execution_count": 105,
   "id": "c7520dd2-db00-4b18-b889-a341e619f328",
   "metadata": {},
   "outputs": [],
   "source": [
    "df['date_created'] = df['date_created'].str[:10]\n",
    "df['Comment author'] = df['user'].apply(lambda x: re.findall(\"'name': '(.+?)', 'p\", x)[0])\n",
    "df['Company_id'] = df['object'].apply(lambda x: re.findall(\"'id': '(.+?)', 'typ\", x)[0])"
   ]
  },
  {
   "cell_type": "code",
   "execution_count": 106,
   "id": "9a0bf473-4353-4534-a78e-0c74e4c394db",
   "metadata": {
    "tags": []
   },
   "outputs": [],
   "source": [
    "df = df.drop(columns=['user', 'object', 'official_answer'])"
   ]
  },
  {
   "cell_type": "code",
   "execution_count": 108,
   "id": "56da2203-835e-487e-8e2d-bd8afe3122fc",
   "metadata": {},
   "outputs": [],
   "source": [
    "df.to_csv('2gis_REVIEW_DATA.csv', index=False)"
   ]
  },
  {
   "cell_type": "code",
   "execution_count": 107,
   "id": "66242d07-8bc2-4985-a0ad-9ea53368b79a",
   "metadata": {},
   "outputs": [
    {
     "data": {
      "text/html": [
       "<div>\n",
       "<style scoped>\n",
       "    .dataframe tbody tr th:only-of-type {\n",
       "        vertical-align: middle;\n",
       "    }\n",
       "\n",
       "    .dataframe tbody tr th {\n",
       "        vertical-align: top;\n",
       "    }\n",
       "\n",
       "    .dataframe thead th {\n",
       "        text-align: right;\n",
       "    }\n",
       "</style>\n",
       "<table border=\"1\" class=\"dataframe\">\n",
       "  <thead>\n",
       "    <tr style=\"text-align: right;\">\n",
       "      <th></th>\n",
       "      <th>City</th>\n",
       "      <th>text</th>\n",
       "      <th>rating</th>\n",
       "      <th>date_created</th>\n",
       "      <th>Comment author</th>\n",
       "      <th>Company_id</th>\n",
       "    </tr>\n",
       "  </thead>\n",
       "  <tbody>\n",
       "    <tr>\n",
       "      <th>0</th>\n",
       "      <td>CHELYABINSK</td>\n",
       "      <td>УЖАСНЕЙШАЯ ШАРАШКИНА КОНТОРА!!! \\nОбразовался ...</td>\n",
       "      <td>1.0</td>\n",
       "      <td>2021-09-28</td>\n",
       "      <td>Ekaterina Chaltceva</td>\n",
       "      <td>2111590606320294</td>\n",
       "    </tr>\n",
       "    <tr>\n",
       "      <th>1</th>\n",
       "      <td>CHELYABINSK</td>\n",
       "      <td>Совершенно некомпетентные сотрудники</td>\n",
       "      <td>1.0</td>\n",
       "      <td>2021-06-21</td>\n",
       "      <td>Ольга Красева</td>\n",
       "      <td>2111590606320294</td>\n",
       "    </tr>\n",
       "    <tr>\n",
       "      <th>2</th>\n",
       "      <td>CHELYABINSK</td>\n",
       "      <td>Друзья, бегите от этих непрофессионалов!!! Раб...</td>\n",
       "      <td>1.0</td>\n",
       "      <td>2021-02-26</td>\n",
       "      <td>Вадим Сафин</td>\n",
       "      <td>2111590606320294</td>\n",
       "    </tr>\n",
       "    <tr>\n",
       "      <th>3</th>\n",
       "      <td>CHELYABINSK</td>\n",
       "      <td>Недобропорядочная компания! Имейте ввиду, когд...</td>\n",
       "      <td>1.0</td>\n",
       "      <td>2021-02-25</td>\n",
       "      <td>Даша Иванова</td>\n",
       "      <td>2111590606320294</td>\n",
       "    </tr>\n",
       "    <tr>\n",
       "      <th>4</th>\n",
       "      <td>CHELYABINSK</td>\n",
       "      <td>Устанавливаю сигналку на квартиру. Менеджер Ни...</td>\n",
       "      <td>3.0</td>\n",
       "      <td>2020-11-22</td>\n",
       "      <td>Автор скрыл имя</td>\n",
       "      <td>2111590606320294</td>\n",
       "    </tr>\n",
       "    <tr>\n",
       "      <th>...</th>\n",
       "      <td>...</td>\n",
       "      <td>...</td>\n",
       "      <td>...</td>\n",
       "      <td>...</td>\n",
       "      <td>...</td>\n",
       "      <td>...</td>\n",
       "    </tr>\n",
       "    <tr>\n",
       "      <th>3573</th>\n",
       "      <td>VORONEZH</td>\n",
       "      <td>Ответственый Чоп. Качественое техническое обсл...</td>\n",
       "      <td>5.0</td>\n",
       "      <td>2021-02-25</td>\n",
       "      <td>Xoz Hunter</td>\n",
       "      <td>70000001041389608</td>\n",
       "    </tr>\n",
       "    <tr>\n",
       "      <th>3574</th>\n",
       "      <td>VORONEZH</td>\n",
       "      <td>Была сработка в квартире, диспетчер позвонил и...</td>\n",
       "      <td>1.0</td>\n",
       "      <td>2021-10-26</td>\n",
       "      <td>bamemop514</td>\n",
       "      <td>4363391420281505</td>\n",
       "    </tr>\n",
       "    <tr>\n",
       "      <th>3575</th>\n",
       "      <td>YOSHKAR-OLA</td>\n",
       "      <td>Ваши сотрудники - ваше лицо. Сегодня 14.05.202...</td>\n",
       "      <td>1.0</td>\n",
       "      <td>2020-05-15</td>\n",
       "      <td>Анна Ильина</td>\n",
       "      <td>70000001028821608</td>\n",
       "    </tr>\n",
       "    <tr>\n",
       "      <th>3576</th>\n",
       "      <td>YOSHKAR-OLA</td>\n",
       "      <td>аля 90-е , ничего не могут сказать или объясни...</td>\n",
       "      <td>1.0</td>\n",
       "      <td>2018-10-16</td>\n",
       "      <td>Vito Burberry</td>\n",
       "      <td>70000001023972860</td>\n",
       "    </tr>\n",
       "    <tr>\n",
       "      <th>3577</th>\n",
       "      <td>YOSHKAR-OLA</td>\n",
       "      <td>Воспитанность и деловой этикет отсутствует вид...</td>\n",
       "      <td>1.0</td>\n",
       "      <td>2021-01-16</td>\n",
       "      <td>Айдар Габдрахманов</td>\n",
       "      <td>9852152465878577</td>\n",
       "    </tr>\n",
       "  </tbody>\n",
       "</table>\n",
       "<p>3578 rows × 6 columns</p>\n",
       "</div>"
      ],
      "text/plain": [
       "             City                                               text  rating  \\\n",
       "0     CHELYABINSK  УЖАСНЕЙШАЯ ШАРАШКИНА КОНТОРА!!! \\nОбразовался ...     1.0   \n",
       "1     CHELYABINSK               Совершенно некомпетентные сотрудники     1.0   \n",
       "2     CHELYABINSK  Друзья, бегите от этих непрофессионалов!!! Раб...     1.0   \n",
       "3     CHELYABINSK  Недобропорядочная компания! Имейте ввиду, когд...     1.0   \n",
       "4     CHELYABINSK  Устанавливаю сигналку на квартиру. Менеджер Ни...     3.0   \n",
       "...           ...                                                ...     ...   \n",
       "3573     VORONEZH  Ответственый Чоп. Качественое техническое обсл...     5.0   \n",
       "3574     VORONEZH  Была сработка в квартире, диспетчер позвонил и...     1.0   \n",
       "3575  YOSHKAR-OLA  Ваши сотрудники - ваше лицо. Сегодня 14.05.202...     1.0   \n",
       "3576  YOSHKAR-OLA  аля 90-е , ничего не могут сказать или объясни...     1.0   \n",
       "3577  YOSHKAR-OLA  Воспитанность и деловой этикет отсутствует вид...     1.0   \n",
       "\n",
       "     date_created       Comment author         Company_id  \n",
       "0      2021-09-28  Ekaterina Chaltceva   2111590606320294  \n",
       "1      2021-06-21        Ольга Красева   2111590606320294  \n",
       "2      2021-02-26          Вадим Сафин   2111590606320294  \n",
       "3      2021-02-25         Даша Иванова   2111590606320294  \n",
       "4      2020-11-22      Автор скрыл имя   2111590606320294  \n",
       "...           ...                  ...                ...  \n",
       "3573   2021-02-25           Xoz Hunter  70000001041389608  \n",
       "3574   2021-10-26           bamemop514   4363391420281505  \n",
       "3575   2020-05-15          Анна Ильина  70000001028821608  \n",
       "3576   2018-10-16        Vito Burberry  70000001023972860  \n",
       "3577   2021-01-16   Айдар Габдрахманов   9852152465878577  \n",
       "\n",
       "[3578 rows x 6 columns]"
      ]
     },
     "execution_count": 107,
     "metadata": {},
     "output_type": "execute_result"
    }
   ],
   "source": [
    "df"
   ]
  },
  {
   "cell_type": "code",
   "execution_count": 2,
   "id": "c82d2948-7620-4d0d-8c1e-ecf912b20392",
   "metadata": {},
   "outputs": [],
   "source": [
    "df = pd.read_csv('2gis_REVIEW_DATA.csv')"
   ]
  },
  {
   "cell_type": "code",
   "execution_count": 4,
   "id": "1280016e-382f-484a-ae76-af7c533b80cf",
   "metadata": {},
   "outputs": [],
   "source": [
    "df2 = pd.read_csv('2gis/ALL_DATA/BASE_INFO.csv')"
   ]
  },
  {
   "cell_type": "code",
   "execution_count": 6,
   "id": "90ba4389-c0ab-4fa9-a592-2c35b16dae33",
   "metadata": {},
   "outputs": [],
   "source": [
    "df2 = df2.loc[:, ['Company', 'Company_id']]"
   ]
  },
  {
   "cell_type": "code",
   "execution_count": 7,
   "id": "d0ad0976-6813-4f45-89e0-bfa2f9842474",
   "metadata": {},
   "outputs": [
    {
     "data": {
      "text/html": [
       "<div>\n",
       "<style scoped>\n",
       "    .dataframe tbody tr th:only-of-type {\n",
       "        vertical-align: middle;\n",
       "    }\n",
       "\n",
       "    .dataframe tbody tr th {\n",
       "        vertical-align: top;\n",
       "    }\n",
       "\n",
       "    .dataframe thead th {\n",
       "        text-align: right;\n",
       "    }\n",
       "</style>\n",
       "<table border=\"1\" class=\"dataframe\">\n",
       "  <thead>\n",
       "    <tr style=\"text-align: right;\">\n",
       "      <th></th>\n",
       "      <th>Company</th>\n",
       "      <th>Company_id</th>\n",
       "    </tr>\n",
       "  </thead>\n",
       "  <tbody>\n",
       "    <tr>\n",
       "      <th>0</th>\n",
       "      <td>Статус безопасности</td>\n",
       "      <td>70000001022001896</td>\n",
       "    </tr>\n",
       "    <tr>\n",
       "      <th>1</th>\n",
       "      <td>Арсенал</td>\n",
       "      <td>2111590606382024</td>\n",
       "    </tr>\n",
       "    <tr>\n",
       "      <th>2</th>\n",
       "      <td>ОМЕГА</td>\n",
       "      <td>70000001007323294</td>\n",
       "    </tr>\n",
       "    <tr>\n",
       "      <th>3</th>\n",
       "      <td>Кэндо</td>\n",
       "      <td>2111590606320587</td>\n",
       "    </tr>\n",
       "    <tr>\n",
       "      <th>4</th>\n",
       "      <td>Гридъ</td>\n",
       "      <td>70000001024594990</td>\n",
       "    </tr>\n",
       "    <tr>\n",
       "      <th>...</th>\n",
       "      <td>...</td>\n",
       "      <td>...</td>\n",
       "    </tr>\n",
       "    <tr>\n",
       "      <th>2812</th>\n",
       "      <td>Вымпел</td>\n",
       "      <td>9852152465858425</td>\n",
       "    </tr>\n",
       "    <tr>\n",
       "      <th>2813</th>\n",
       "      <td>Барс</td>\n",
       "      <td>9852152465851238</td>\n",
       "    </tr>\n",
       "    <tr>\n",
       "      <th>2814</th>\n",
       "      <td>Гранит-Безопасность</td>\n",
       "      <td>9852152465894303</td>\n",
       "    </tr>\n",
       "    <tr>\n",
       "      <th>2815</th>\n",
       "      <td>Русич</td>\n",
       "      <td>70000001050098511</td>\n",
       "    </tr>\n",
       "    <tr>\n",
       "      <th>2816</th>\n",
       "      <td>Контроль-М</td>\n",
       "      <td>70000001048046007</td>\n",
       "    </tr>\n",
       "  </tbody>\n",
       "</table>\n",
       "<p>2817 rows × 2 columns</p>\n",
       "</div>"
      ],
      "text/plain": [
       "                  Company         Company_id\n",
       "0     Статус безопасности  70000001022001896\n",
       "1                 Арсенал   2111590606382024\n",
       "2                   ОМЕГА  70000001007323294\n",
       "3                   Кэндо   2111590606320587\n",
       "4                   Гридъ  70000001024594990\n",
       "...                   ...                ...\n",
       "2812               Вымпел   9852152465858425\n",
       "2813                 Барс   9852152465851238\n",
       "2814  Гранит-Безопасность   9852152465894303\n",
       "2815                Русич  70000001050098511\n",
       "2816           Контроль-М  70000001048046007\n",
       "\n",
       "[2817 rows x 2 columns]"
      ]
     },
     "execution_count": 7,
     "metadata": {},
     "output_type": "execute_result"
    }
   ],
   "source": [
    "df2"
   ]
  },
  {
   "cell_type": "code",
   "execution_count": 11,
   "id": "2b999454-b6c8-46ae-ba22-774ffb82a22e",
   "metadata": {},
   "outputs": [],
   "source": [
    "df = df.merge(df2, how='left', on='Company_id')"
   ]
  },
  {
   "cell_type": "code",
   "execution_count": 13,
   "id": "ee18bf87-4c3b-4587-be90-709d89bf6dbe",
   "metadata": {},
   "outputs": [],
   "source": [
    "df.to_csv('2gis_REVIEW_DATA.csv', index=False)"
   ]
  },
  {
   "cell_type": "code",
   "execution_count": null,
   "id": "ee658f7b-5d5a-435e-b2fe-87fef829c57a",
   "metadata": {},
   "outputs": [],
   "source": []
  }
 ],
 "metadata": {
  "kernelspec": {
   "display_name": "Python 3 (ipykernel)",
   "language": "python",
   "name": "python3"
  },
  "language_info": {
   "codemirror_mode": {
    "name": "ipython",
    "version": 3
   },
   "file_extension": ".py",
   "mimetype": "text/x-python",
   "name": "python",
   "nbconvert_exporter": "python",
   "pygments_lexer": "ipython3",
   "version": "3.9.7"
  }
 },
 "nbformat": 4,
 "nbformat_minor": 5
}
